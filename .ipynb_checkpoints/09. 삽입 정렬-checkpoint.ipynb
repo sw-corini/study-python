{
 "cells": [
  {
   "cell_type": "code",
   "execution_count": 2,
   "metadata": {},
   "outputs": [
    {
     "name": "stdout",
     "output_type": "stream",
     "text": [
      "[1, 2, 3, 4, 5]\n"
     ]
    }
   ],
   "source": [
    "# 쉽게 설명한 삽입 정렬 알고리즘\n",
    "\n",
    "def find_ins_idx(r, v):\n",
    "    for i in range(0, len(r)):\n",
    "        if v < r[i]:\n",
    "            return i\n",
    "    return len(r)\n",
    "\n",
    "def ins_sort(a):\n",
    "    result = []\n",
    "    while a:\n",
    "        value = a.pop(0)\n",
    "        ins_idx = find_ins_idx(result, value)\n",
    "        result.insert(ins_idx, value) \n",
    "    return result\n",
    "\n",
    "\n",
    "d = [2, 4, 5, 1, 3]\n",
    "print(ins_sort(d))"
   ]
  },
  {
   "cell_type": "code",
   "execution_count": 4,
   "metadata": {},
   "outputs": [
    {
     "name": "stdout",
     "output_type": "stream",
     "text": [
      "[1, 2, 3, 4, 5]\n"
     ]
    }
   ],
   "source": [
    "# 일반적인 삽입 정렬 알고리즘\n",
    "\n",
    "def ins_sort(a):\n",
    "    n = len(a)\n",
    "    for i in range(1, n):\n",
    "        key = a[i]\n",
    "        j = i - 1\n",
    "        while j >= 0 and a[j] > key:\n",
    "            a[j + 1] = a[j]\n",
    "            j -= 1\n",
    "        a[j + 1] = key\n",
    "        \n",
    "d = [2, 4, 5, 1, 3]\n",
    "ins_sort(d)\n",
    "print(d)"
   ]
  },
  {
   "cell_type": "code",
   "execution_count": 5,
   "metadata": {},
   "outputs": [],
   "source": [
    "#9-1 일반적인 삽입 정렬 알고리즘을 사용해서 리스트 [2, 4, 5, 1, 3]을 정렬하는 과정을 적어 보세요."
   ]
  },
  {
   "cell_type": "code",
   "execution_count": null,
   "metadata": {},
   "outputs": [],
   "source": [
    "#9-2 문제 9에서 설명한 정렬 알고리즘은 숫자를 작은 수에서 큰 수 순서로 나열하는 오름차순 정렬이었습니다. \n",
    "# 이를 큰 수에서 작은 수 순서로 나열하는 내림차순 정렬로 바꾸려면 프로그램의 어느 부분을 바꿔야 할까요?"
   ]
  }
 ],
 "metadata": {
  "kernelspec": {
   "display_name": "Python 3",
   "language": "python",
   "name": "python3"
  },
  "language_info": {
   "codemirror_mode": {
    "name": "ipython",
    "version": 3
   },
   "file_extension": ".py",
   "mimetype": "text/x-python",
   "name": "python",
   "nbconvert_exporter": "python",
   "pygments_lexer": "ipython3",
   "version": "3.7.0"
  }
 },
 "nbformat": 4,
 "nbformat_minor": 2
}
