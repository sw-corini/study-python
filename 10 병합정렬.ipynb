{
 "cells": [
  {
   "cell_type": "code",
   "execution_count": 2,
   "metadata": {},
   "outputs": [
    {
     "name": "stdout",
     "output_type": "stream",
     "text": [
      "[1, 2, 3, 4, 5, 6, 7, 8, 9, 10]\n"
     ]
    }
   ],
   "source": [
    "def merge_sort(a):\n",
    "    n = len(a)\n",
    "    if n <= 1:\n",
    "        return a\n",
    "    mid = n // 2\n",
    "    g1 = merge_sort(a[:mid])\n",
    "    g2 = merge_sort(a[mid:])\n",
    "    result = []\n",
    "    while g1 and g2:\n",
    "        if g1[0] < g2[0]:\n",
    "            result.append(g1.pop(0))\n",
    "        else:\n",
    "            result.append(g2.pop(0))\n",
    "    while g1:\n",
    "        result.append(g1.pop(0))\n",
    "    while g2:\n",
    "        result.append(g2.pop(0))\n",
    "    return result\n",
    "\n",
    "\n",
    "d = [6, 8, 3, 9, 10, 1, 2, 4, 7, 5]\n",
    "\n",
    "print(merge_sort(d))"
   ]
  },
  {
   "cell_type": "code",
   "execution_count": 3,
   "metadata": {},
   "outputs": [
    {
     "name": "stdout",
     "output_type": "stream",
     "text": [
      "[1, 2, 3, 4, 5, 6, 7, 8, 9, 10]\n"
     ]
    }
   ],
   "source": [
    "def merge_sort(a):\n",
    "    n = len(a)\n",
    "    if n <= 1:\n",
    "        return\n",
    "    mid = n // 2 \n",
    "    g1 = a[:mid]\n",
    "    g2 = a[mid:]\n",
    "    merge_sort(g1)\n",
    "    merge_sort(g2)\n",
    "    i1 = 0\n",
    "    i2 = 0\n",
    "    ia = 0\n",
    "    while i1 < len(g1) and i2 < len(g2):\n",
    "        if g1[i1] < g2[i2]:\n",
    "            a[ia] = g1[i1]\n",
    "            i1 += 1\n",
    "            ia += 1\n",
    "        else:\n",
    "            a[ia] = g2[i2]\n",
    "            i2 += 1\n",
    "            ia += 1 \n",
    "    while i1 < len(g1):\n",
    "        a[ia] = g1[i1]\n",
    "        i1+= 1\n",
    "        ia += 1\n",
    "    while i2 < len(g2):\n",
    "        a[ia] = g2[i2]\n",
    "        i2 += 1\n",
    "        ia += 1\n",
    " \n",
    "d = [6, 8, 3, 9, 10, 1, 2, 4, 7, 5]\n",
    "\n",
    "merge_sort(d)\n",
    "\n",
    "print(d)"
   ]
  }
 ],
 "metadata": {
  "kernelspec": {
   "display_name": "Python 3",
   "language": "python",
   "name": "python3"
  },
  "language_info": {
   "codemirror_mode": {
    "name": "ipython",
    "version": 3
   },
   "file_extension": ".py",
   "mimetype": "text/x-python",
   "name": "python",
   "nbconvert_exporter": "python",
   "pygments_lexer": "ipython3",
   "version": "3.7.0"
  }
 },
 "nbformat": 4,
 "nbformat_minor": 2
}
