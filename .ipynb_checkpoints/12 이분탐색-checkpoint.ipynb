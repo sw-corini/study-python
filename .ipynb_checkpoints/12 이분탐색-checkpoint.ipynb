{
 "cells": [
  {
   "cell_type": "code",
   "execution_count": 2,
   "metadata": {},
   "outputs": [
    {
     "name": "stdout",
     "output_type": "stream",
     "text": [
      "5\n",
      "-1\n"
     ]
    }
   ],
   "source": [
    "def binary_search(a, x):\n",
    "    start = 0\n",
    "    end = len(a) - 1\n",
    "    while start <= end:            \n",
    "        mid = (start + end) // 2\n",
    "        if x == a[mid]:\n",
    "            return mid\n",
    "        elif x > a[mid]: \n",
    "            start = mid + 1\n",
    "        else:                   \n",
    "            end = mid - 1\n",
    "    return -1\n",
    "\n",
    "d = [1, 4, 9, 16, 25, 36, 49, 64, 81]\n",
    "\n",
    "print(binary_search(d, 36))\n",
    "\n",
    "print(binary_search(d, 50))"
   ]
  }
 ],
 "metadata": {
  "kernelspec": {
   "display_name": "Python 3",
   "language": "python",
   "name": "python3"
  },
  "language_info": {
   "codemirror_mode": {
    "name": "ipython",
    "version": 3
   },
   "file_extension": ".py",
   "mimetype": "text/x-python",
   "name": "python",
   "nbconvert_exporter": "python",
   "pygments_lexer": "ipython3",
   "version": "3.7.0"
  }
 },
 "nbformat": 4,
 "nbformat_minor": 2
}
